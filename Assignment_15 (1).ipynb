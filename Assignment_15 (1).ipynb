{
 "cells": [
  {
   "cell_type": "code",
   "execution_count": 2,
   "id": "4c56c615-532d-4f7e-9297-797d50266270",
   "metadata": {},
   "outputs": [],
   "source": [
    "# Q1. What is a database? Differentiate between SQL and NoSQL databases.\n",
    "import logging\n",
    "logging.basicConfig(filename='as15.log', level=logging.INFO)\n",
    "logging.info(\"Data base is a concept in programming that is used to add, retrieve & manage the data\")\n",
    "logging.info(\"SQL: S.Q.L. also known as Structured Query Language it is used to store data in a proper hierarchy on the other hand NoSQL is used to store the data in non-hierarchial pattern.\")"
   ]
  },
  {
   "cell_type": "code",
   "execution_count": 1,
   "id": "6254347a-796d-4182-a1fa-dcd1703f14b5",
   "metadata": {},
   "outputs": [
    {
     "ename": "NameError",
     "evalue": "name 'logging' is not defined",
     "output_type": "error",
     "traceback": [
      "\u001b[0;31m---------------------------------------------------------------------------\u001b[0m",
      "\u001b[0;31mNameError\u001b[0m                                 Traceback (most recent call last)",
      "Cell \u001b[0;32mIn[1], line 2\u001b[0m\n\u001b[1;32m      1\u001b[0m \u001b[38;5;66;03m# Q2. What is DDL? Explain why CREATE, DROP, ALTER, and TRUNCATE are used with an example.\u001b[39;00m\n\u001b[0;32m----> 2\u001b[0m \u001b[43mlogging\u001b[49m\u001b[38;5;241m.\u001b[39minfo(\u001b[38;5;124m\"\u001b[39m\u001b[38;5;124mD.D.L. (Data Definition language) is a subset of SQL. It is a language that sets data & relation between in a database\u001b[39m\u001b[38;5;130;01m\\n\u001b[39;00m\u001b[38;5;124mCreate: It is used to Create any database or content in it.\u001b[39m\u001b[38;5;130;01m\\n\u001b[39;00m\u001b[38;5;124m\"\u001b[39m)\n",
      "\u001b[0;31mNameError\u001b[0m: name 'logging' is not defined"
     ]
    }
   ],
   "source": [
    "# Q2. What is DDL? Explain why CREATE, DROP, ALTER, and TRUNCATE are used with an example.\n",
    "logging.info(\"D.D.L. (Data Definition language) is a subset of SQL. It is a language that sets data & relation between in a database\\nCreate: It is used to Create any database or content in it.\\nDrop: It is used to drop an existing database.\\nALTER: It is used to do alter/changes in a database.\\nTruncate:It is used to delete all the data in a table without deleting it.\")"
   ]
  },
  {
   "cell_type": "code",
   "execution_count": null,
   "id": "1c7c93cd-38d0-46cd-84ff-3cdbd84f9478",
   "metadata": {},
   "outputs": [],
   "source": [
    "# Q3. What is DML? Explain INSERT, UPDATE, and DELETE with an example.\n",
    "logging.info(\"DML(Data Manipulation Language) is used to manipulate data in the database.\\nInsert: It is used to insert an external data into the desired database.\\nUpdate: It is used to update the desired data in a databse.\\nDelete: It is used to delete a data from the database.\")"
   ]
  },
  {
   "cell_type": "code",
   "execution_count": null,
   "id": "44dc795b-735c-46d7-81f8-3e5e67af261a",
   "metadata": {},
   "outputs": [],
   "source": [
    "# Q4. What is DQL? Explain SELECT with an example.\n",
    "logging.info(\"DQL (Data Query Language) is a language used to create different types of query languages.\\nSELECT: It is used to target any data from a desired database such.\\nFor example we use SELECT keyword in S.Q.L. for selecting any data which is presented in a desired database.\")"
   ]
  },
  {
   "cell_type": "code",
   "execution_count": null,
   "id": "21eda296-7070-447c-ab60-4ab56aad281e",
   "metadata": {},
   "outputs": [],
   "source": [
    "# Q5. Explain Primary Key and Foreign Key.\n",
    "logging.info(\"Primary Key: It is a unique Identifier or a tester in a data-base it is used to ensure that any unique value is put inside a row/column or not.\\nForeign Key: They establishes a link between two or more rows & columns .\")"
   ]
  },
  {
   "cell_type": "code",
   "execution_count": null,
   "id": "d2d08305-7ae2-46d1-aeb0-407a522f07ca",
   "metadata": {},
   "outputs": [],
   "source": [
    "# Q6. Write a python code to connect MySQL to python. Explain the cursor() and execute() method.\n",
    "##In MySql\n",
    "CREATE  DATABASE Assinment_14() ##first we'll be creating a database for our linking sql with python.\n",
    "\n",
    "##Creating a Table in Database\n",
    "-- Active: 1706079162118@@127.0.0.1@3306\n",
    "CREATE  Assinment_14.pw(c1 INTEGER, c2 VARCHAR(50))\n",
    "\n",
    "#Now we'll be connecting python code to Mysql\n",
    "import mysql.connector #importing a mysql.connector module in python\n",
    "\n",
    "kezual = mysql.connector.connect( #creating a variable for connecting to sql \n",
    "    host=\"localhost\",\n",
    "    user=\"abc\",\n",
    "    password=\"password\"\n",
    ")\n",
    "\n",
    "logging.info(\"Cursor(): Cursor keyword is used to  target or create cursor object in sql query with python\\nexecute(): execute keyword is used to edit and execute the given program to sql query\")"
   ]
  },
  {
   "cell_type": "code",
   "execution_count": null,
   "id": "0eb3e279-fa64-4a8f-b609-a53c7eaf8541",
   "metadata": {},
   "outputs": [],
   "source": [
    "# Q7. Give the order of execution of SQL clauses in an SQL query.\n",
    "\n",
    "-- Active: 1706079162118@@127.0.0.1@3306\n",
    "CREATE  TABLE Assinment_14.pw(c1 INTEGER, c2 VARCHAR(50))# We'll be creating a table named as pw and giving values  to it\n",
    "SELECT * FROM `Assinment_14` #Here we're selecting all the data from the database Assinment_14"
   ]
  }
 ],
 "metadata": {
  "kernelspec": {
   "display_name": "Python 3 (ipykernel)",
   "language": "python",
   "name": "python3"
  },
  "language_info": {
   "codemirror_mode": {
    "name": "ipython",
    "version": 3
   },
   "file_extension": ".py",
   "mimetype": "text/x-python",
   "name": "python",
   "nbconvert_exporter": "python",
   "pygments_lexer": "ipython3",
   "version": "3.10.8"
  }
 },
 "nbformat": 4,
 "nbformat_minor": 5
}
